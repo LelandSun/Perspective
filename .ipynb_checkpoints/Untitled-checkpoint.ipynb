{
 "cells": [
  {
   "cell_type": "markdown",
   "metadata": {},
   "source": [
    "## Nullify Image Perspective\n",
    "\n",
    "### A fun illustration of affine transform and bilinear interpolation\n",
    "\n",
    "Given a photograph taken off-axis of a planar subject, we can reverse the perspective effect of the camera angle and display the subject without the geometric distortions due to perspective.\n",
    "\n",
    "<table border=\"0\" style=\"width:80%;border:0px\"> <tr style=\"border:0px\">\n",
    "    <td style=\"width:50%;border:0px\">\n",
    "        <img src=\"tapestry.jpg\" width=\"200px\"/>\n",
    "    </td>\n",
    "    <td style=\"width:50%;border:0px\">\n",
    "        <img src=\"tapestry rectified.jpg\" width=\"265px\"/>\n",
    "    </td>\n",
    "</tr> </table>\n",
    "\n",
    "This repository discusses and demonstrates how this is done. The presentation <b>perspective.ipynb</b> is in the form of an IPython Notebook. Its interactive features are only available, if the IPython Notebook App and a suitable Python development environment have been installed. Installing Anaconda is an excellent way to prepare a system for Python coding and for using IPython Notebooks. Anaconda is a completely free Python distribution for scientific purposes. It manages the installation of optional packages and can even do so for multiple configuration environments. Download Anaconda <a href=“http://continuum.io/downloads”>here</a>."
   ]
  }
 ],
 "metadata": {
  "kernelspec": {
   "display_name": "Python 3",
   "language": "python",
   "name": "python3"
  },
  "language_info": {
   "codemirror_mode": {
    "name": "ipython",
    "version": 3
   },
   "file_extension": ".py",
   "mimetype": "text/x-python",
   "name": "python",
   "nbconvert_exporter": "python",
   "pygments_lexer": "ipython3",
   "version": "3.5.0"
  }
 },
 "nbformat": 4,
 "nbformat_minor": 0
}
